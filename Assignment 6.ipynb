{
 "cells": [
  {
   "cell_type": "markdown",
   "id": "981c63ea",
   "metadata": {},
   "source": [
    "# Question 1"
   ]
  },
  {
   "cell_type": "code",
   "execution_count": 2,
   "id": "231506b9",
   "metadata": {},
   "outputs": [
    {
     "name": "stdout",
     "output_type": "stream",
     "text": [
      "28\n",
      "(True, True)\n"
     ]
    }
   ],
   "source": [
    "def is_perfect_number(n):\n",
    "    sum=0\n",
    "    sum_all=0\n",
    "    for i in range(1,n):\n",
    "        if n%i==0:\n",
    "            sum+=i\n",
    "            sum_all+=i\n",
    "    sum2=(sum_all+n)//2        \n",
    "    return sum==n , sum2==n\n",
    "p=int(input())\n",
    "print(is_perfect_number(p))"
   ]
  },
  {
   "cell_type": "markdown",
   "id": "51c298b9",
   "metadata": {},
   "source": [
    "# Question 2"
   ]
  },
  {
   "cell_type": "code",
   "execution_count": 3,
   "id": "243f921d",
   "metadata": {},
   "outputs": [
    {
     "name": "stdout",
     "output_type": "stream",
     "text": [
      "ketan\n"
     ]
    },
    {
     "data": {
      "text/plain": [
       "False"
      ]
     },
     "execution_count": 3,
     "metadata": {},
     "output_type": "execute_result"
    }
   ],
   "source": [
    "def is_palindrome(n):\n",
    "    \n",
    "    new=word[::-1]\n",
    "    return word==new\n",
    "word=input()\n",
    "is_palindrome(word)"
   ]
  },
  {
   "cell_type": "markdown",
   "id": "207b08a5",
   "metadata": {},
   "source": [
    "# Question 3"
   ]
  },
  {
   "cell_type": "code",
   "execution_count": 5,
   "id": "33645f0a",
   "metadata": {},
   "outputs": [
    {
     "name": "stdout",
     "output_type": "stream",
     "text": [
      "      1 \n",
      "\n",
      "     1 1 \n",
      "\n",
      "    1 2 1 \n",
      "\n",
      "   1 3 3 1 \n",
      "\n",
      "  1 4 6 4 1 \n",
      "\n"
     ]
    }
   ],
   "source": [
    "from math import factorial\n",
    "\n",
    "def pascal_tri(numRows):\n",
    "  '''Print Pascal's triangle with numRows.'''\n",
    "  for i in range(numRows):\n",
    "    # loop to get leading spaces\n",
    "    for j in range(numRows-i+1):\n",
    "        print(end=\" \")\n",
    "    \n",
    "    # loop to get elements of row i\n",
    "    for j in range(i+1):\n",
    "\t\t  # nCr = n!/((n-r)!*r!)\n",
    "        print(factorial(i)//(factorial(j)*factorial(i-j)), end=\" \")\n",
    "\n",
    "\t # print each row in a new line\n",
    "    print(\"\\n\")\n",
    "\n",
    "pascal_tri(5)"
   ]
  },
  {
   "cell_type": "markdown",
   "id": "e2688671",
   "metadata": {},
   "source": [
    "# Question 4"
   ]
  },
  {
   "cell_type": "code",
   "execution_count": 24,
   "id": "271385f4",
   "metadata": {},
   "outputs": [
    {
     "name": "stdout",
     "output_type": "stream",
     "text": [
      "akhdb\n",
      "False\n"
     ]
    }
   ],
   "source": [
    "def ispangram(string):\n",
    "    alpha=\"abcdefghijklmnopqrstuvwxyz\"\n",
    "    for i in alpha :\n",
    "        if i not in string.lower():\n",
    "            return False\n",
    "    return True\n",
    "string=input()\n",
    "print(ispangram(string))"
   ]
  },
  {
   "cell_type": "markdown",
   "id": "d433bb87",
   "metadata": {},
   "source": [
    "# Question 5 "
   ]
  },
  {
   "cell_type": "code",
   "execution_count": 6,
   "id": "507c1451",
   "metadata": {},
   "outputs": [
    {
     "name": "stdout",
     "output_type": "stream",
     "text": [
      "violet-yellow-alladin-ketan-pec-red-papaya\n"
     ]
    },
    {
     "data": {
      "text/plain": [
       "'alladin-ketan-papaya-pec-red-violet-yellow'"
      ]
     },
     "execution_count": 6,
     "metadata": {},
     "output_type": "execute_result"
    }
   ],
   "source": [
    "def hyphen(sent):\n",
    "    words=sent.split(\"-\")\n",
    "    word=sorted(words)\n",
    "    return \"-\".join(word)\n",
    "n=input()\n",
    "hyphen(n)"
   ]
  },
  {
   "cell_type": "markdown",
   "id": "f70da1da",
   "metadata": {},
   "source": [
    "# Question 6 "
   ]
  },
  {
   "cell_type": "code",
   "execution_count": 8,
   "id": "e0db1e32",
   "metadata": {},
   "outputs": [
    {
     "name": "stdout",
     "output_type": "stream",
     "text": [
      "Student ID: SV12\n",
      "Student name : Jean Garner\n",
      "Student class : V\n",
      "Student ID: SV12\n",
      "Student name : Jean Garner\n"
     ]
    }
   ],
   "source": [
    "def student_data(student_id,**kwargs):\n",
    "    print(\"Student ID:\",student_id)\n",
    "    if \"student_name\" in kwargs:\n",
    "        print(\"Student name :\",kwargs['student_name'])\n",
    "    if \"student_class\" in kwargs :\n",
    "        print(\"Student class :\",kwargs['student_class'])\n",
    "        \n",
    "\n",
    "student_data(student_id='SV12', student_name='Jean Garner', student_class ='V')\n",
    "\n",
    "student_data(student_id='SV12', student_name='Jean Garner')"
   ]
  },
  {
   "cell_type": "markdown",
   "id": "ff257805",
   "metadata": {},
   "source": [
    "# Question 7"
   ]
  },
  {
   "cell_type": "code",
   "execution_count": 19,
   "id": "8c236149",
   "metadata": {},
   "outputs": [
    {
     "name": "stdout",
     "output_type": "stream",
     "text": [
      "To check whether they are instances of said classes or not:\n",
      "True\n",
      "False\n",
      "True\n",
      "False\n",
      "\n",
      "To check whether the said classes are subclasses of the built-in object class or not:\n",
      "True\n",
      "True\n"
     ]
    }
   ],
   "source": [
    "class Student:\n",
    "    pass\n",
    "class Marks:\n",
    "    pass\n",
    "ketan=Student()\n",
    "a_grade=Marks()\n",
    "print(\"To check whether they are instances of said classes or not:\")\n",
    "print(isinstance(ketan,Student))\n",
    "print(isinstance(ketan,Marks))\n",
    "print(isinstance(a_grade,Marks))\n",
    "print(isinstance(a_grade,Student))\n",
    "print(\"\\nTo check whether the said classes are subclasses of the built-in object class or not:\")\n",
    "print(issubclass(Student,object))\n",
    "print(issubclass(Marks,object))"
   ]
  },
  {
   "cell_type": "markdown",
   "id": "cc4e0b0c",
   "metadata": {},
   "source": [
    "# Question 8 "
   ]
  },
  {
   "cell_type": "code",
   "execution_count": 22,
   "id": "06afbc33",
   "metadata": {},
   "outputs": [
    {
     "name": "stdout",
     "output_type": "stream",
     "text": [
      "[[-10, 2, 8], [-7, -3, 10]]\n"
     ]
    }
   ],
   "source": [
    "class solution:\n",
    "    def sumthree(self,nums):\n",
    "        nums=sorted(nums)\n",
    "        result=[]\n",
    "        i=0\n",
    "        while i < len(nums)-2 :\n",
    "            j , k = i+1 , len(nums)-1\n",
    "            while j<k:\n",
    "                if nums[i] + nums[j] + nums[k] < 0:\n",
    "                    j+=1\n",
    "                elif nums[i] + nums[j] + nums[k] >0 :\n",
    "                    k-=1\n",
    "                else :\n",
    "                    result.append([nums[i] ,nums[j] ,nums[k]])\n",
    "                    j+=1\n",
    "                    k-=1\n",
    "                    while j<k and nums[j] == nums[j -1]:\n",
    "                        j+=1\n",
    "                    while j<k and nums[k]== nums[k+1] :\n",
    "                        k-=1\n",
    "            i+=1\n",
    "            while i<len(nums)-2 and nums[i]==nums[i-1]:\n",
    "                i+=1\n",
    "        return result\n",
    "print(solution().sumthree([-25, -10, -7, -3, 2, 4, 8, 10]))"
   ]
  },
  {
   "cell_type": "markdown",
   "id": "d2d602fd",
   "metadata": {},
   "source": [
    "# Question 9 "
   ]
  },
  {
   "cell_type": "code",
   "execution_count": 29,
   "id": "abf22a31",
   "metadata": {},
   "outputs": [
    {
     "name": "stdout",
     "output_type": "stream",
     "text": [
      "False\n"
     ]
    }
   ],
   "source": [
    "class sol:\n",
    "    def validity(self,str1):\n",
    "        accum=[]\n",
    "        parentheses={\"(\":\")\",\"[\":\"]\",\"{\":\"}\"}\n",
    "        for i in str1 :\n",
    "            if i in parentheses:\n",
    "                accum.append(i)\n",
    "            elif len(accum)==0 or parentheses[accum.pop()]!=i:\n",
    "                return False\n",
    "        return len(accum)==0\n",
    "print(sol().validity(\"(((\"))"
   ]
  }
 ],
 "metadata": {
  "kernelspec": {
   "display_name": "Python 3 (ipykernel)",
   "language": "python",
   "name": "python3"
  },
  "language_info": {
   "codemirror_mode": {
    "name": "ipython",
    "version": 3
   },
   "file_extension": ".py",
   "mimetype": "text/x-python",
   "name": "python",
   "nbconvert_exporter": "python",
   "pygments_lexer": "ipython3",
   "version": "3.9.12"
  }
 },
 "nbformat": 4,
 "nbformat_minor": 5
}
